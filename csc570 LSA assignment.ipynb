{
 "cells": [
  {
   "cell_type": "code",
   "execution_count": 148,
   "metadata": {
    "collapsed": false
   },
   "outputs": [],
   "source": [
    "from sklearn.datasets import fetch_20newsgroups\n",
    "categories = ['rec.sport.baseball']\n",
    "dataset = fetch_20newsgroups(subset='all',shuffle=True, random_state=42, categories=categories)\n",
    "corpus = dataset.data\n",
    "#corpus\n"
   ]
  },
  {
   "cell_type": "code",
   "execution_count": 149,
   "metadata": {
    "collapsed": false
   },
   "outputs": [
    {
     "data": {
      "text/plain": [
       "(994, 13986)"
      ]
     },
     "execution_count": 149,
     "metadata": {},
     "output_type": "execute_result"
    }
   ],
   "source": [
    "from sklearn.feature_extraction.text import TfidfVectorizer\n",
    "vectorizer = TfidfVectorizer()\n",
    "vectors = vectorizer.fit_transform(corpus)\n",
    "vectors.shape\n"
   ]
  },
  {
   "cell_type": "code",
   "execution_count": 150,
   "metadata": {
    "collapsed": false
   },
   "outputs": [
    {
     "data": {
      "text/plain": [
       "<994x13986 sparse matrix of type '<type 'numpy.float64'>'\n",
       "\twith 138186 stored elements in Compressed Sparse Row format>"
      ]
     },
     "execution_count": 150,
     "metadata": {},
     "output_type": "execute_result"
    }
   ],
   "source": [
    "vectors\n"
   ]
  },
  {
   "cell_type": "code",
   "execution_count": 151,
   "metadata": {
    "collapsed": true
   },
   "outputs": [],
   "source": [
    "from sklearn.decomposition import TruncatedSVD"
   ]
  },
  {
   "cell_type": "code",
   "execution_count": 152,
   "metadata": {
    "collapsed": false
   },
   "outputs": [],
   "source": [
    "import nltk\n",
    "from nltk.corpus import stopwords\n"
   ]
  },
  {
   "cell_type": "code",
   "execution_count": 153,
   "metadata": {
    "collapsed": false
   },
   "outputs": [
    {
     "name": "stdout",
     "output_type": "stream",
     "text": [
      "[nltk_data] Downloading package stopwords to\n",
      "[nltk_data]     C:\\Users\\mdmurph\\AppData\\Roaming\\nltk_data...\n",
      "[nltk_data]   Package stopwords is already up-to-date!\n"
     ]
    },
    {
     "data": {
      "text/plain": [
       "True"
      ]
     },
     "execution_count": 153,
     "metadata": {},
     "output_type": "execute_result"
    }
   ],
   "source": [
    "#run this only once\n",
    "nltk.download('stopwords')"
   ]
  },
  {
   "cell_type": "code",
   "execution_count": 154,
   "metadata": {
    "collapsed": false
   },
   "outputs": [],
   "source": [
    "stopset = set(stopwords.words('english'))\n",
    "stopset.update(['cc','class','edu','com','go','netcom','nntp','posting','0','host','00','article','subject','from','to','writes',\n",
    "                '000','0000','vb30','10','74','cs','1','2','3','4','5','000th','0000ahc', 'udcps3', 'cps','100','001','001211 18457',\n",
    "                '0010', 'music lib','0010','lib','001211 18457 adobe','1211','002 755','02','1211','002251w','001211 18457 adobe',\n",
    "                '002251w 734117130','002251w','002 755'\n",
    "               ])\n",
    "#stopset"
   ]
  },
  {
   "cell_type": "code",
   "execution_count": 155,
   "metadata": {
    "collapsed": false
   },
   "outputs": [
    {
     "data": {
      "text/plain": [
       "<1x187806 sparse matrix of type '<type 'numpy.float64'>'\n",
       "\twith 218 stored elements in Compressed Sparse Row format>"
      ]
     },
     "execution_count": 155,
     "metadata": {},
     "output_type": "execute_result"
    }
   ],
   "source": [
    "vectorizer = TfidfVectorizer(stop_words=stopset,\n",
    "                                 use_idf=True, ngram_range=(1, 3))\n",
    "X = vectorizer.fit_transform(corpus)\n",
    "X[0]"
   ]
  },
  {
   "cell_type": "code",
   "execution_count": 156,
   "metadata": {
    "collapsed": false
   },
   "outputs": [
    {
     "name": "stdout",
     "output_type": "stream",
     "text": [
      "  (0, 50857)\t0.0746132673148\n",
      "  (0, 187067)\t0.0746132673148\n",
      "  (0, 28586)\t0.0746132673148\n",
      "  (0, 144983)\t0.0746132673148\n",
      "  (0, 62357)\t0.0746132673148\n",
      "  (0, 75876)\t0.0746132673148\n",
      "  (0, 132013)\t0.0746132673148\n",
      "  (0, 101551)\t0.0746132673148\n",
      "  (0, 64747)\t0.0746132673148\n",
      "  (0, 113031)\t0.0746132673148\n",
      "  (0, 161528)\t0.0746132673148\n",
      "  (0, 179868)\t0.0746132673148\n",
      "  (0, 118547)\t0.0746132673148\n",
      "  (0, 62496)\t0.0746132673148\n",
      "  (0, 102043)\t0.0746132673148\n",
      "  (0, 93339)\t0.0746132673148\n",
      "  (0, 131928)\t0.0746132673148\n",
      "  (0, 142079)\t0.0746132673148\n",
      "  (0, 96003)\t0.0746132673148\n",
      "  (0, 113691)\t0.0746132673148\n",
      "  (0, 163953)\t0.0746132673148\n",
      "  (0, 58939)\t0.0746132673148\n",
      "  (0, 50897)\t0.0746132673148\n",
      "  (0, 35434)\t0.0746132673148\n",
      "  (0, 62482)\t0.0746132673148\n",
      "  :\t:\n",
      "  (0, 165958)\t0.0228266198637\n",
      "  (0, 32446)\t0.0544747293091\n",
      "  (0, 82591)\t0.0347674687603\n",
      "  (0, 142338)\t0.056070059559\n",
      "  (0, 121236)\t0.112140119118\n",
      "  (0, 37256)\t0.100557011009\n",
      "  (0, 40535)\t0.106185582777\n",
      "  (0, 16926)\t0.0746132673148\n",
      "  (0, 92707)\t0.112140119118\n",
      "  (0, 7317)\t0.0381183934476\n",
      "  (0, 98872)\t0.0104117572234\n",
      "  (0, 162117)\t0.0616482212846\n",
      "  (0, 47597)\t0.0394137270027\n",
      "  (0, 174055)\t0.0397645796293\n",
      "  (0, 112822)\t0.0616482212846\n",
      "  (0, 174090)\t0.0182218234762\n",
      "  (0, 157741)\t0.0378183967528\n",
      "  (0, 29108)\t0.0310982251846\n",
      "  (0, 120618)\t0.0104327069497\n",
      "  (0, 66315)\t0.126487103069\n",
      "  (0, 50779)\t0.163424187927\n",
      "  (0, 38533)\t0.0513142853602\n",
      "  (0, 38563)\t0.0513142853602\n",
      "  (0, 97042)\t0.0502785055043\n",
      "  (0, 184511)\t0.0746132673148\n"
     ]
    }
   ],
   "source": [
    "print X[0]"
   ]
  },
  {
   "cell_type": "code",
   "execution_count": 157,
   "metadata": {
    "collapsed": false
   },
   "outputs": [
    {
     "data": {
      "text/plain": [
       "(994, 187806)"
      ]
     },
     "execution_count": 157,
     "metadata": {},
     "output_type": "execute_result"
    }
   ],
   "source": [
    "X.shape"
   ]
  },
  {
   "cell_type": "code",
   "execution_count": 158,
   "metadata": {
    "collapsed": false
   },
   "outputs": [
    {
     "data": {
      "text/plain": [
       "TruncatedSVD(algorithm='randomized', n_components=27, n_iter=100,\n",
       "       random_state=None, tol=0.0)"
      ]
     },
     "execution_count": 158,
     "metadata": {},
     "output_type": "execute_result"
    }
   ],
   "source": [
    "lsa = TruncatedSVD(n_components=27, n_iter=100)\n",
    "lsa.fit(X)"
   ]
  },
  {
   "cell_type": "code",
   "execution_count": 159,
   "metadata": {
    "collapsed": false
   },
   "outputs": [
    {
     "name": "stdout",
     "output_type": "stream",
     "text": [
      "Concept 0:\n",
      "year\n",
      "team\n",
      "would\n",
      "game\n",
      "baseball\n",
      "players\n",
      "games\n",
      "one\n",
      "good\n",
      "think\n",
      " \n",
      "Concept 1:\n",
      "organization\n",
      "jewish\n",
      "like\n",
      "baseball\n",
      "hit\n",
      "0023 lafibm\n",
      "jewish baseball players\n",
      "baseball players\n",
      "lafayette\n",
      "lafibm\n",
      " \n",
      "Concept 2:\n",
      "games\n",
      "morris\n",
      "organization university\n",
      "first\n",
      "kingston\n",
      "game\n",
      "ibm\n",
      "002 755 harris\n",
      "aix\n",
      "distribution\n",
      " \n",
      "Concept 3:\n",
      "year\n",
      "hit\n",
      "get\n",
      "clutch\n",
      "like\n",
      "make\n",
      "morris\n",
      "three\n",
      "time\n",
      "give\n",
      " \n",
      "Concept 4:\n",
      "baseball\n",
      "games\n",
      "also\n",
      "get\n",
      "organization\n",
      "make\n",
      "new\n",
      "university\n",
      "play\n",
      "never\n",
      " \n",
      "Concept 5:\n",
      "team\n",
      "would\n",
      "make\n",
      "ca\n",
      "come\n",
      "one\n",
      "12\n",
      "jays\n",
      "mike\n",
      "university\n",
      " \n",
      "Concept 6:\n",
      "one\n",
      "play\n",
      "mike\n",
      "stats\n",
      "take\n",
      "dave\n",
      "see\n",
      "anyone\n",
      "well\n",
      "03\n",
      " \n",
      "Concept 7:\n",
      "0023 lafibm\n",
      "runs\n",
      "say\n",
      "clutch\n",
      "win\n",
      "would\n",
      "last\n",
      "lost\n",
      "sabo\n",
      "0023\n",
      " \n",
      "Concept 8:\n",
      "players\n",
      "like\n",
      "get\n",
      "stats\n",
      "may\n",
      "really\n",
      "baseball\n",
      "think\n",
      "total\n",
      "mets\n",
      " \n",
      "Concept 9:\n",
      "would\n",
      "season\n",
      "last year\n",
      "gant\n",
      "20\n",
      "get\n",
      "day\n",
      "best\n",
      "runs\n",
      "alomar\n",
      " \n",
      "Concept 10:\n",
      "year\n",
      "players\n",
      "see\n",
      "one\n",
      "hit\n",
      "organization\n",
      "run\n",
      "even\n",
      "another\n",
      "season\n",
      " \n",
      "Concept 11:\n",
      "like\n",
      "would\n",
      "morris\n",
      "think\n",
      "first\n",
      "david\n",
      "well\n",
      "time\n",
      "get\n",
      "never\n",
      " \n",
      "Concept 12:\n",
      "two\n",
      "players\n",
      "like\n",
      "team\n",
      "good\n",
      "still\n",
      "jays\n",
      "runs\n",
      "come\n",
      "mets\n",
      " \n",
      "Concept 13:\n",
      "team\n",
      "really\n",
      "baseball\n",
      "two\n",
      "think\n",
      "david\n",
      "0023 lafibm\n",
      "year\n",
      "002 755 harris\n",
      "distribution\n",
      " \n",
      "Concept 14:\n",
      "like\n",
      "would\n",
      "hit\n",
      "back\n",
      "also\n",
      "mets\n",
      "002\n",
      "run\n",
      "best\n",
      "gant\n",
      " \n",
      "Concept 15:\n",
      "university\n",
      "know\n",
      "one\n",
      "1992\n",
      "got\n",
      "going\n",
      "season\n",
      "might\n",
      "last year\n",
      "better\n",
      " \n",
      "Concept 16:\n",
      "think\n",
      "good\n",
      "one\n",
      "pitching\n",
      "year\n",
      "would\n",
      "mike\n",
      "maybe\n",
      "stats\n",
      "best\n",
      " \n",
      "Concept 17:\n",
      "make\n",
      "think\n",
      "really\n",
      "team\n",
      "year\n",
      "game\n",
      "also\n",
      "hit\n",
      "would\n",
      "organization\n",
      " \n",
      "Concept 18:\n",
      "know\n",
      "good\n",
      "hit\n",
      "time\n",
      "better\n",
      "win\n",
      "would\n",
      "years\n",
      "games\n",
      "hitter\n",
      " \n",
      "Concept 19:\n",
      "last\n",
      "hit\n",
      "one\n",
      "new\n",
      "team\n",
      "many\n",
      "lines\n",
      "games\n",
      "least\n",
      "princeton\n",
      " \n",
      "Concept 20:\n",
      "team\n",
      "time\n",
      "hit\n",
      "university\n",
      "year\n",
      "see\n",
      "0023 lafibm\n",
      "way\n",
      "run\n",
      "know\n",
      " \n",
      "Concept 21:\n",
      "university\n",
      "like\n",
      "first\n",
      "year\n",
      "know\n",
      "well\n",
      "would\n",
      "games\n",
      "might\n",
      "season\n",
      " \n",
      "Concept 22:\n",
      "games\n",
      "pitching\n",
      "still\n",
      "get\n",
      "jays\n",
      "could\n",
      "ny\n",
      "organization\n",
      "long\n",
      "time\n",
      " \n",
      "Concept 23:\n",
      "first\n",
      "morris\n",
      "pitching\n",
      "year\n",
      "braves\n",
      "know\n",
      "fans\n",
      "much\n",
      "ball\n",
      "trying\n",
      " \n",
      "Concept 24:\n",
      "know\n",
      "see\n",
      "good\n",
      "games\n",
      "two\n",
      "even\n",
      "could\n",
      "year\n",
      "runs\n",
      "better\n",
      " \n",
      "Concept 25:\n",
      "year\n",
      "would\n",
      "get\n",
      "two\n",
      "games\n",
      "players\n",
      "could\n",
      "back\n",
      "organization university\n",
      "david\n",
      " \n",
      "Concept 26:\n",
      "get\n",
      "002 755 harris\n",
      "0023 lafibm\n",
      "one\n",
      "better\n",
      "also\n",
      "two\n",
      "sox\n",
      "scott\n",
      "maybe\n",
      " \n"
     ]
    }
   ],
   "source": [
    "terms = vectorizer.get_feature_names()\n",
    "for i, comp in enumerate(lsa.components_): \n",
    "    termsInComp = zip (terms,comp)\n",
    "    sortedTerms =  sorted(termsInComp, key=lambda x: x[1], reverse=True) [:10]\n",
    "    print \"Concept %d:\" % i\n",
    "    for term in sortedTerms:\n",
    "        print term[0]\n",
    "    print \" \""
   ]
  },
  {
   "cell_type": "code",
   "execution_count": 160,
   "metadata": {
    "collapsed": false
   },
   "outputs": [
    {
     "data": {
      "text/plain": [
       "array([[ 0.00049532,  0.00049532,  0.00049532, ...,  0.00113384,\n",
       "         0.00113384,  0.00113384],\n",
       "       [ 0.01535984,  0.04383769,  0.04306751, ..., -0.00107973,\n",
       "        -0.00107973, -0.00107973],\n",
       "       [-0.00248155,  0.02583448, -0.02640479, ...,  0.00038546,\n",
       "         0.00038546,  0.00038546],\n",
       "       ..., \n",
       "       [ 0.00435408,  0.01575589, -0.05201397, ...,  0.00262109,\n",
       "         0.00262109,  0.00262109],\n",
       "       [-0.01773874,  0.00237484, -0.0263347 , ..., -0.00159953,\n",
       "        -0.00159953, -0.00159953],\n",
       "       [ 0.00844902, -0.03618449, -0.08063278, ...,  0.00047571,\n",
       "         0.00047571,  0.00047571]])"
      ]
     },
     "execution_count": 160,
     "metadata": {},
     "output_type": "execute_result"
    }
   ],
   "source": [
    "lsa.components_"
   ]
  }
 ],
 "metadata": {
  "anaconda-cloud": {},
  "kernelspec": {
   "display_name": "Python [Root]",
   "language": "python",
   "name": "Python [Root]"
  },
  "language_info": {
   "codemirror_mode": {
    "name": "ipython",
    "version": 2
   },
   "file_extension": ".py",
   "mimetype": "text/x-python",
   "name": "python",
   "nbconvert_exporter": "python",
   "pygments_lexer": "ipython2",
   "version": "2.7.12"
  }
 },
 "nbformat": 4,
 "nbformat_minor": 0
}
